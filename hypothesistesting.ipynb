{
 "cells": [
  {
   "cell_type": "code",
   "execution_count": null,
   "metadata": {},
   "outputs": [],
   "source": [
    "#hypothesis testing is a test made to check if dataset is stationary or not \n",
    "hypothesis testing provides us with two results either null hypothesis or alternate hypothesis which helps to know if our data is stationary or seasonal\n",
    "null hypothesis is a statement stating our assumtion is true while alternate hypothesis is stating our assumtion is false \n",
    "After performing mathematical results to know if our assumtions was true or false \n",
    "There are two types of testing namely ADF and KPSS\n",
    "ADF detects the presence of unit root in the data which detects non stationality\n",
    "KPSS exhibits stationarity while allowing presence of trends "
   ]
  },
  {
   "cell_type": "code",
   "execution_count": 15,
   "metadata": {},
   "outputs": [],
   "source": [
    "import pandas as pd\n",
    "from scipy import stats\n",
    "from statsmodels.tsa.stattools import adfuller\n",
    "from statsmodels.tsa.stattools import kpss\n"
   ]
  },
  {
   "cell_type": "code",
   "execution_count": 16,
   "metadata": {},
   "outputs": [],
   "source": [
    "\n",
    "df=pd.read_csv(\"TimeSeriesDatasetModified.csv\")"
   ]
  },
  {
   "cell_type": "code",
   "execution_count": 17,
   "metadata": {},
   "outputs": [
    {
     "name": "stdout",
     "output_type": "stream",
     "text": [
      "KPSS Statistic: 1.4466415522504839\n",
      "P-value: 0.01\n",
      "Critical Values:\n",
      "  10%: 0.347\n",
      "  5%: 0.463\n",
      "  2.5%: 0.574\n",
      "  1%: 0.739\n",
      "The time series is non-stationary (reject the null hypothesis).\n"
     ]
    },
    {
     "name": "stderr",
     "output_type": "stream",
     "text": [
      "C:\\Users\\tanis\\AppData\\Local\\Temp\\ipykernel_18168\\4025831675.py:3: InterpolationWarning: The test statistic is outside of the range of p-values available in the\n",
      "look-up table. The actual p-value is smaller than the p-value returned.\n",
      "\n",
      "  kpss_stat, p_value, lags, critical_values = kpss(df['hal_High'], nlags='auto')\n"
     ]
    }
   ],
   "source": [
    "\n",
    "# Perform KPSS test\n",
    "\n",
    "kpss_stat, p_value, lags, critical_values = kpss(df['hal_High'], nlags='auto')\n",
    "\n",
    "\n",
    "# Print the results\n",
    "print(f'KPSS Statistic: {kpss_stat}')\n",
    "print(f'P-value: {p_value}')\n",
    "print('Critical Values:')\n",
    "for key, value in critical_values.items():\n",
    "    print(f'  {key}: {value}')\n",
    "\n",
    "# Check for non-stationarity based on the p-value and significance level (e.g., 0.05)\n",
    "if p_value < 0.05:\n",
    "    print('The time series is non-stationary (reject the null hypothesis).')\n",
    "else:\n",
    "    print('The time series is stationary (fail to reject the null hypothesis).')\n"
   ]
  },
  {
   "cell_type": "code",
   "execution_count": 18,
   "metadata": {},
   "outputs": [
    {
     "name": "stdout",
     "output_type": "stream",
     "text": [
      "ADF Statistic: -1.7147289556914913\n",
      "P-value: 0.4235400990930188\n",
      "The time series is non-stationary (fail to reject the null hypothesis).\n"
     ]
    }
   ],
   "source": [
    "\n",
    "\n",
    "\n",
    "# Assuming you have loaded your data into a DataFrame (df)\n",
    "\n",
    "# Fill missing values with the mean\n",
    "df['hal_High'].fillna(df['hal_High'].mean(), inplace=True)\n",
    "\n",
    "# Perform the ADF test\n",
    "adf_stat, p_value, _, _, _, _ = adfuller(df['hal_High']) # critical value , lags , observation , degree of freedom\n",
    "\n",
    "# Print the results\n",
    "print(f'ADF Statistic: {adf_stat}')\n",
    "print(f'P-value: {p_value}')\n",
    "\n",
    "# Check for stationarity based on the p-value and significance level (e.g., 0.05)\n",
    "if p_value < 0.05:\n",
    "    print('The time series is stationary (reject the null hypothesis).')\n",
    "else:\n",
    "    print('The time series is non-stationary (fail to reject the null hypothesis).')\n"
   ]
  },
  {
   "cell_type": "code",
   "execution_count": 20,
   "metadata": {},
   "outputs": [
    {
     "name": "stdout",
     "output_type": "stream",
     "text": [
      "F-statistic: 63.436001730089835\n",
      "P-value: 1.109605157048687e-14\n"
     ]
    }
   ],
   "source": [
    "#ANOVA testing\n",
    "\n",
    "f_statistic, p_value = stats.f_oneway(df['bdl_High'], df['bdl_Low'])\n",
    "print(\"F-statistic:\", f_statistic)\n",
    "print(\"P-value:\", p_value)\n"
   ]
  }
 ],
 "metadata": {
  "kernelspec": {
   "display_name": "Python 3",
   "language": "python",
   "name": "python3"
  },
  "language_info": {
   "codemirror_mode": {
    "name": "ipython",
    "version": 3
   },
   "file_extension": ".py",
   "mimetype": "text/x-python",
   "name": "python",
   "nbconvert_exporter": "python",
   "pygments_lexer": "ipython3",
   "version": "3.10.7"
  }
 },
 "nbformat": 4,
 "nbformat_minor": 2
}
